{
 "cells": [
  {
   "cell_type": "code",
   "execution_count": 1,
   "metadata": {},
   "outputs": [],
   "source": [
    "import numpy as np\n",
    "import pandas as pd\n",
    "import math\n",
    "from scipy.optimize import fsolve\n",
    "import matplotlib.pyplot as plt \n",
    "import csv"
   ]
  },
  {
   "cell_type": "markdown",
   "metadata": {},
   "source": [
    "# Q1"
   ]
  },
  {
   "cell_type": "code",
   "execution_count": 2,
   "metadata": {},
   "outputs": [],
   "source": [
    "I_measured=[]\n",
    "V_measured=[]\n",
    "P_measured=[]\n",
    "filename = 'E:\\IITB Sem 2\\EE770\\Assignment 5\\Data.csv'\n",
    "  \n",
    "csvf= open(filename, 'r') \n",
    "csvreader = csv.reader(csvf) \n",
    "fields = next(csvreader) \n",
    "    #current=list(csvreader)\n",
    "for row in csvreader: \n",
    "    V_measured.append(float(row[0]))\n",
    "    I_measured.append(float(row[1]))\n",
    "    P_measured.append(float(row[2]))"
   ]
  },
  {
   "cell_type": "code",
   "execution_count": 3,
   "metadata": {
    "scrolled": true
   },
   "outputs": [
    {
     "data": {
      "image/png": "[encoded data removed]",
      "text/plain": [
       "<Figure size 432x288 with 1 Axes>"
      ]
     },
     "metadata": {
      "needs_background": "light"
     },
     "output_type": "display_data"
    }
   ],
   "source": [
    "plt.plot(V_measured,I_measured)\n",
    "plt.axis([0, 35, 0, 8])\n",
    "plt.title('1.Measured IV Curve')\n",
    "plt.xlabel('V in Volts')\n",
    "plt.ylabel('I in Amperes')\n",
    "plt.show()"
   ]
  },
  {
   "cell_type": "code",
   "execution_count": 4,
   "metadata": {},
   "outputs": [
    {
     "name": "stdout",
     "output_type": "stream",
     "text": [
      "Pmax_measured= 170.5123341\n"
     ]
    }
   ],
   "source": [
    "Pmax_measured=np.amax(P_measured) # max power at field conditions\n",
    "print(\"Pmax_measured=\",Pmax_measured)"
   ]
  },
  {
   "cell_type": "markdown",
   "metadata": {},
   "source": [
    "# Q3 & Q4 Modified IEC procedure"
   ]
  },
  {
   "cell_type": "code",
   "execution_count": 5,
   "metadata": {},
   "outputs": [],
   "source": [
    "I_stc=[]\n",
    "V_stc=[]\n",
    "P_stc=[]\n",
    "G_stc=1000\n",
    "T_stc=25\n",
    "G_measured=862.432\n",
    "T_measured=52.52\n",
    "Isc_nm=8.53 #nameplate value\n",
    "Voc_nm=37.08#nameplate value\n",
    "Isc_mea=7.49 # calculated by extrapolation\n",
    "Voc_mea=33.39 #calculated by extrapolation\n",
    "alpha=0.0003412 #Isc Coefficient(A/degC)\n",
    "beta=-0.118656 #Voc coefficient(V/degC)"
   ]
  },
  {
   "cell_type": "code",
   "execution_count": 6,
   "metadata": {},
   "outputs": [],
   "source": [
    "#I_STC values equation\n",
    "for I in I_measured:\n",
    "    Istc= I+ (Isc_mea*((G_stc/G_measured)-1))+(alpha*(T_stc-T_measured)) \n",
    "    I_stc.append(Istc)"
   ]
  },
  {
   "cell_type": "code",
   "execution_count": 7,
   "metadata": {},
   "outputs": [],
   "source": [
    "for V in V_measured:\n",
    "    Vstc= V+(beta*(T_stc-T_measured))\n",
    "    V_stc.append(Vstc)"
   ]
  },
  {
   "cell_type": "code",
   "execution_count": 8,
   "metadata": {},
   "outputs": [],
   "source": [
    "P_stc=np.multiply(V_stc,I_stc)\n",
    "Pmax_stc=np.amax(P_stc)"
   ]
  },
  {
   "cell_type": "code",
   "execution_count": 9,
   "metadata": {},
   "outputs": [
    {
     "name": "stdout",
     "output_type": "stream",
     "text": [
      "Pamx_stc= 226.27142403954747\n"
     ]
    }
   ],
   "source": [
    "print(\"Pamx_stc=\",Pmax_stc)\n",
    "#Voc_stc=np.amax(V_stc)\n",
    "#Isc_stc=np.amax(I_stc)"
   ]
  },
  {
   "cell_type": "code",
   "execution_count": 10,
   "metadata": {},
   "outputs": [],
   "source": [
    "#plt.plot(V_stc,I_stc)\n",
    "#plt.axis([0, 40, 0, 10])\n",
    "#plt.title('2.STC IV Curve(Modified IEC)')\n",
    "#plt.xlabel('V in Volts')\n",
    "#plt.ylabel('I in Amperes')\n",
    "#plt.show()"
   ]
  },
  {
   "cell_type": "code",
   "execution_count": 11,
   "metadata": {},
   "outputs": [],
   "source": [
    "filename='E:\\IITB Sem 2\\EE770\\Assignment 5\\Data_Modstc.csv'\n",
    "with open(filename, mode='w',newline='') as csvf:\n",
    "    csvwriter = csv.writer(csvf)\n",
    "\n",
    "    csvwriter.writerow(['VOLTS', 'AMPS', 'WATTS'])\n",
    "    csvwriter.writerows([V_stc])\n",
    "    csvwriter.writerows([I_stc])\n",
    "    csvwriter.writerows([P_stc])\n",
    "#newline command does not add blank column"
   ]
  },
  {
   "cell_type": "code",
   "execution_count": 12,
   "metadata": {},
   "outputs": [],
   "source": [
    "#print(I_stc)"
   ]
  },
  {
   "cell_type": "code",
   "execution_count": 13,
   "metadata": {},
   "outputs": [],
   "source": [
    "#print(V_stc)"
   ]
  },
  {
   "cell_type": "code",
   "execution_count": 14,
   "metadata": {},
   "outputs": [],
   "source": [
    "Isc_stc=8.68 #found by extrapolation\n",
    "Voc_stc=37.75 #found by extrapolation"
   ]
  },
  {
   "cell_type": "markdown",
   "metadata": {},
   "source": [
    "# SIDT procedure"
   ]
  },
  {
   "cell_type": "code",
   "execution_count": 15,
   "metadata": {},
   "outputs": [],
   "source": [
    "V_sidt=[]\n",
    "V_sidt= V_measured"
   ]
  },
  {
   "cell_type": "code",
   "execution_count": 16,
   "metadata": {},
   "outputs": [],
   "source": [
    "#Voc_sidt=np.amax(V_sidt)\n",
    "#print(Voc_sidt)"
   ]
  },
  {
   "cell_type": "code",
   "execution_count": 17,
   "metadata": {},
   "outputs": [],
   "source": [
    "I_sidt=[]\n",
    "for J in I_measured:\n",
    "    Isidt=(J/G_measured)*1000.0\n",
    "    I_sidt.append(Isidt)"
   ]
  },
  {
   "cell_type": "code",
   "execution_count": 18,
   "metadata": {},
   "outputs": [
    {
     "name": "stdout",
     "output_type": "stream",
     "text": [
      "-1.125\n",
      "-0.118656\n"
     ]
    }
   ],
   "source": [
    "gamma=-1.125 #max power coefficient(W/degC)\n",
    "print(gamma)\n",
    "print(beta)"
   ]
  },
  {
   "cell_type": "code",
   "execution_count": 19,
   "metadata": {},
   "outputs": [
    {
     "name": "stdout",
     "output_type": "stream",
     "text": [
      "197.71104740295726\n"
     ]
    }
   ],
   "source": [
    "P_sidt=[]\n",
    "P_sidt=np.multiply(V_sidt,I_sidt)\n",
    "Pmax_sidt=np.amax(P_sidt)\n",
    "print(Pmax_sidt)\n",
    "#print(P_sidt)"
   ]
  },
  {
   "cell_type": "code",
   "execution_count": 20,
   "metadata": {},
   "outputs": [],
   "source": [
    "filename='E:\\IITB Sem 2\\EE770\\Assignment 5\\Data_Sidt.csv'\n",
    "with open(filename, mode='w',newline='') as csvf:\n",
    "    csvwriter = csv.writer(csvf)\n",
    "\n",
    "    csvwriter.writerow(['VOLTS', 'AMPS', 'WATTS'])\n",
    "    csvwriter.writerows([V_sidt])\n",
    "    csvwriter.writerows([I_sidt])\n",
    "    csvwriter.writerows([P_sidt])"
   ]
  },
  {
   "cell_type": "code",
   "execution_count": 21,
   "metadata": {},
   "outputs": [],
   "source": [
    "#print(V_sidt)"
   ]
  },
  {
   "cell_type": "code",
   "execution_count": 22,
   "metadata": {},
   "outputs": [],
   "source": [
    "#print(I_sidt)"
   ]
  },
  {
   "cell_type": "code",
   "execution_count": 23,
   "metadata": {},
   "outputs": [],
   "source": [
    "Isc_sidt=8.68 #found by extrapolation\n",
    "Voc_sidt=33.41 #found by extrapolation"
   ]
  },
  {
   "cell_type": "code",
   "execution_count": 24,
   "metadata": {},
   "outputs": [
    {
     "name": "stdout",
     "output_type": "stream",
     "text": [
      "8.670610176\n"
     ]
    }
   ],
   "source": [
    "Isc_stc2= Isc_sidt+(alpha*(T_stc-T_measured))\n",
    "print(Isc_stc2)"
   ]
  },
  {
   "cell_type": "code",
   "execution_count": 25,
   "metadata": {},
   "outputs": [
    {
     "name": "stdout",
     "output_type": "stream",
     "text": [
      "36.675413119999995\n"
     ]
    }
   ],
   "source": [
    "Voc_stc2= Voc_sidt+(beta*(T_stc-T_measured))\n",
    "print(Voc_stc2)"
   ]
  },
  {
   "cell_type": "code",
   "execution_count": 26,
   "metadata": {},
   "outputs": [
    {
     "name": "stdout",
     "output_type": "stream",
     "text": [
      "228.67104740295727\n"
     ]
    }
   ],
   "source": [
    "Pmax_stc2= Pmax_sidt+(gamma*(T_stc-T_measured))\n",
    "print(Pmax_stc2)"
   ]
  },
  {
   "cell_type": "code",
   "execution_count": 27,
   "metadata": {},
   "outputs": [],
   "source": [
    "FF_stc = (Pmax_stc/(Voc_stc*Isc_stc))\n",
    "FF_stc2= (Pmax_stc2/(Voc_stc2*Isc_stc2))"
   ]
  },
  {
   "cell_type": "code",
   "execution_count": 28,
   "metadata": {},
   "outputs": [
    {
     "name": "stdout",
     "output_type": "stream",
     "text": [
      "FF_stc= 0.6905466598698308\n",
      "FF_stc2 0.7190953913039515\n"
     ]
    }
   ],
   "source": [
    "print(\"FF_stc=\",FF_stc)\n",
    "print(\"FF_stc2\",FF_stc2)"
   ]
  },
  {
   "cell_type": "code",
   "execution_count": 29,
   "metadata": {},
   "outputs": [
    {
     "name": "stdout",
     "output_type": "stream",
     "text": [
      "FF_measured= 0.6818008881563558\n"
     ]
    }
   ],
   "source": [
    "FF_measured = (Pmax_measured/(Voc_mea*Isc_mea))\n",
    "print(\"FF_measured=\",FF_measured)"
   ]
  },
  {
   "cell_type": "markdown",
   "metadata": {},
   "source": []
  },
  {
   "cell_type": "code",
   "execution_count": null,
   "metadata": {},
   "outputs": [],
   "source": []
  }
 ],
 "metadata": {
  "kernelspec": {
   "display_name": "Python 3",
   "language": "python",
   "name": "python3"
  },
  "language_info": {
   "codemirror_mode": {
    "name": "ipython",
    "version": 3
   },
   "file_extension": ".py",
   "mimetype": "text/x-python",
   "name": "python",
   "nbconvert_exporter": "python",
   "pygments_lexer": "ipython3",
   "version": "3.7.3"
  }
 },
 "nbformat": 4,
 "nbformat_minor": 2
}
